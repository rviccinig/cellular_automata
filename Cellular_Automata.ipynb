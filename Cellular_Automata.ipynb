{
  "nbformat": 4,
  "nbformat_minor": 0,
  "metadata": {
    "colab": {
      "provenance": []
    },
    "kernelspec": {
      "name": "python3",
      "display_name": "Python 3"
    },
    "language_info": {
      "name": "python"
    }
  },
  "cells": [
    {
      "cell_type": "code",
      "source": [
        "# https://isquared.digital/blog/2021-05-02-cellular-automata/"
      ],
      "metadata": {
        "id": "64jy0bo_lgiw"
      },
      "execution_count": 7,
      "outputs": []
    },
    {
      "cell_type": "code",
      "source": [],
      "metadata": {
        "id": "Ou9CWmKJniAX"
      },
      "execution_count": null,
      "outputs": []
    },
    {
      "cell_type": "markdown",
      "source": [
        "# Celular Automata  - Simplest Model"
      ],
      "metadata": {
        "id": "Mr6sEMtu1acg"
      }
    },
    {
      "cell_type": "markdown",
      "source": [],
      "metadata": {
        "id": "xGAEDTDNniRN"
      }
    },
    {
      "cell_type": "code",
      "source": [
        "import numpy as np\n",
        "\n",
        "powers_of_two = np.array([[4], [2], [1]])  # shape (3, 1)\n",
        "\n",
        "def step(x, rule_binary):\n",
        "    \"\"\"Makes one step in the cellular automaton.\n",
        "    Args:\n",
        "        x (np.array): current state of the automaton\n",
        "        rule_binary (np.array): the update rule\n",
        "    Returns:\n",
        "        np.array: updated state of the automaton\n",
        "    \"\"\"\n",
        "    x_shift_right = np.roll(x, 1)  # circular shift to right\n",
        "    x_shift_left = np.roll(x, -1)  # circular shift to left\n",
        "    y = np.vstack((x_shift_right, x, x_shift_left)).astype(np.int8)  # stack row-wise, shape (3, cols)\n",
        "    z = np.sum(powers_of_two * y, axis=0).astype(np.int8)  # LCR pattern as number\n",
        "\n",
        "    return rule_binary[7 - z]\n"
      ],
      "metadata": {
        "id": "AGMwls6o-JTI"
      },
      "execution_count": 17,
      "outputs": []
    },
    {
      "cell_type": "code",
      "source": [
        "\n",
        "import numpy as np\n",
        "\n",
        "def cellular_automaton(rule_number, size, steps,\n",
        "                       init_cond='random', impulse_pos='center'):\n",
        "    \"\"\"Generate the state of an elementary cellular automaton after a pre-determined\n",
        "    number of steps starting from some random state.\n",
        "    Args:\n",
        "        rule_number (int): the number of the update rule to use\n",
        "        size (int): number of cells in the row\n",
        "        steps (int): number of steps to evolve the automaton\n",
        "        init_cond (str): either `random` or `impulse`. If `random` every cell\n",
        "        in the row is activated with prob. 0.5. If `impulse` only one cell\n",
        "        is activated.\n",
        "        impulse_pos (str): if `init_cond` is `impulse`, activate the\n",
        "        left-most, central or right-most cell.\n",
        "    Returns:\n",
        "        np.array: final state of the automaton\n",
        "    \"\"\"\n",
        "    assert 0 <= rule_number <= 255\n",
        "    assert init_cond in ['random', 'impulse']\n",
        "    assert impulse_pos in ['left', 'center', 'right']\n",
        "    \n",
        "    rule_binary_str = np.binary_repr(rule_number, width=8)\n",
        "    rule_binary = np.array([int(ch) for ch in rule_binary_str], dtype=np.int8)\n",
        "    x = np.zeros((steps, size), dtype=np.int8)\n",
        "    \n",
        "    if init_cond == 'random':  # random init of the first step\n",
        "        x[0, :] = np.array(np.random.rand(size) < 0.5, dtype=np.int8) # Replace the first row with an intial condition, this creates a random start of ones and 0\n",
        "\n",
        "    if init_cond == 'impulse':  # starting with an initial impulse\n",
        "        if impulse_pos == 'left':\n",
        "            x[0, 0] = 1\n",
        "        elif impulse_pos == 'right':\n",
        "            x[0, size - 1] = 1\n",
        "        else:\n",
        "            x[0, size // 2] = 1\n",
        "    \n",
        "    for i in range(steps - 1):\n",
        "        x[i + 1, :] = step(x[i, :], rule_binary) # This is where we use the Step Function to update the step bae of the rulle\n",
        "    \n",
        "    return x"
      ],
      "metadata": {
        "id": "a0k3OKPi-iGX"
      },
      "execution_count": 18,
      "outputs": []
    },
    {
      "cell_type": "code",
      "source": [
        "rule_binary_str=np.binary_repr(255, width=8)"
      ],
      "metadata": {
        "id": "pNHL-T2y-p94"
      },
      "execution_count": 12,
      "outputs": []
    },
    {
      "cell_type": "code",
      "source": [],
      "metadata": {
        "colab": {
          "base_uri": "https://localhost:8080/"
        },
        "id": "0fijALR7r6Gr",
        "outputId": "7204d708-7181-424e-b567-bc0b5579ed27"
      },
      "execution_count": 14,
      "outputs": [
        {
          "output_type": "execute_result",
          "data": {
            "text/plain": [
              "array([1, 1, 1, 1, 1, 1, 1, 1], dtype=int8)"
            ]
          },
          "metadata": {},
          "execution_count": 14
        }
      ]
    },
    {
      "cell_type": "code",
      "source": [],
      "metadata": {
        "id": "SC9-26vMsIVx"
      },
      "execution_count": 15,
      "outputs": []
    },
    {
      "cell_type": "code",
      "source": [
        "  cellular_automaton(1,10,20,init_cond='random', impulse_pos='center')\n",
        "\n"
      ],
      "metadata": {
        "colab": {
          "base_uri": "https://localhost:8080/"
        },
        "id": "P3lVrolis6RB",
        "outputId": "25762df4-4b86-4593-ae49-b03707c4b068"
      },
      "execution_count": 52,
      "outputs": [
        {
          "output_type": "execute_result",
          "data": {
            "text/plain": [
              "array([[0, 0, 0, 0, 0, 1, 1, 0, 1, 1],\n",
              "       [0, 1, 1, 1, 0, 0, 0, 0, 0, 0],\n",
              "       [0, 0, 0, 0, 0, 1, 1, 1, 1, 1],\n",
              "       [0, 1, 1, 1, 0, 0, 0, 0, 0, 0],\n",
              "       [0, 0, 0, 0, 0, 1, 1, 1, 1, 1],\n",
              "       [0, 1, 1, 1, 0, 0, 0, 0, 0, 0],\n",
              "       [0, 0, 0, 0, 0, 1, 1, 1, 1, 1],\n",
              "       [0, 1, 1, 1, 0, 0, 0, 0, 0, 0],\n",
              "       [0, 0, 0, 0, 0, 1, 1, 1, 1, 1],\n",
              "       [0, 1, 1, 1, 0, 0, 0, 0, 0, 0],\n",
              "       [0, 0, 0, 0, 0, 1, 1, 1, 1, 1],\n",
              "       [0, 1, 1, 1, 0, 0, 0, 0, 0, 0],\n",
              "       [0, 0, 0, 0, 0, 1, 1, 1, 1, 1],\n",
              "       [0, 1, 1, 1, 0, 0, 0, 0, 0, 0],\n",
              "       [0, 0, 0, 0, 0, 1, 1, 1, 1, 1],\n",
              "       [0, 1, 1, 1, 0, 0, 0, 0, 0, 0],\n",
              "       [0, 0, 0, 0, 0, 1, 1, 1, 1, 1],\n",
              "       [0, 1, 1, 1, 0, 0, 0, 0, 0, 0],\n",
              "       [0, 0, 0, 0, 0, 1, 1, 1, 1, 1],\n",
              "       [0, 1, 1, 1, 0, 0, 0, 0, 0, 0]], dtype=int8)"
            ]
          },
          "metadata": {},
          "execution_count": 52
        }
      ]
    },
    {
      "cell_type": "code",
      "source": [
        "import numpy as np\n",
        "import matplotlib.pyplot as plt\n",
        "\n",
        "plt.matshow(cellular_automaton(60,50,70,init_cond='random', impulse_pos='center')[1:]);\n",
        "plt.colorbar()\n",
        "plt.show()"
      ],
      "metadata": {
        "colab": {
          "base_uri": "https://localhost:8080/",
          "height": 349
        },
        "id": "hxaTRCCpuwIf",
        "outputId": "0197fd34-288f-4564-8c0d-184870e46f3d"
      },
      "execution_count": 101,
      "outputs": [
        {
          "output_type": "display_data",
          "data": {
            "text/plain": [
              "<Figure size 288x397.44 with 2 Axes>"
            ],
            "image/png": "[encoded data removed]"
          },
          "metadata": {
            "needs_background": "light"
          }
        }
      ]
    },
    {
      "cell_type": "code",
      "source": [],
      "metadata": {
        "id": "IKjo45EvwXIp"
      },
      "execution_count": 72,
      "outputs": []
    }
  ]
}